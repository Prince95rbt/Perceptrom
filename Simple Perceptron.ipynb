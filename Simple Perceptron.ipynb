{
 "cells": [
  {
   "cell_type": "code",
   "execution_count": 46,
   "metadata": {},
   "outputs": [],
   "source": [
    "x1 = [10,8]\n",
    "x2 = [8,20]\n",
    "y = [300, 150]\n",
    "\n",
    "N = len(x1)"
   ]
  },
  {
   "cell_type": "code",
   "execution_count": 49,
   "metadata": {},
   "outputs": [],
   "source": [
    "# Randomly initializing these weights\n",
    "w1 = 10\n",
    "w2 = 5\n",
    "\n",
    "lr = 0.001"
   ]
  },
  {
   "cell_type": "code",
   "execution_count": 50,
   "metadata": {},
   "outputs": [
    {
     "name": "stdout",
     "output_type": "stream",
     "text": [
      "Epoch #: 0 | Error : 11406.24 |  W1 : 11.491 |  W2 : 3.288\n",
      "Epoch #: 1 | Error : 7040.203 |  W1 : 13.324 |  W2 : 2.472\n",
      "Epoch #: 2 | Error : 5866.107 |  W1 : 15.038 |  W2 : 1.76\n",
      "Epoch #: 3 | Error : 4980.138 |  W1 : 16.62 |  W2 : 1.106\n",
      "Epoch #: 4 | Error : 4232.51 |  W1 : 18.078 |  W2 : 0.503\n",
      "Epoch #: 5 | Error : 3597.337 |  W1 : 19.422 |  W2 : -0.053\n",
      "Epoch #: 6 | Error : 3057.495 |  W1 : 20.662 |  W2 : -0.566\n",
      "Epoch #: 7 | Error : 2598.666 |  W1 : 21.804 |  W2 : -1.038\n",
      "Epoch #: 8 | Error : 2208.692 |  W1 : 22.858 |  W2 : -1.474\n",
      "Epoch #: 9 | Error : 1877.24 |  W1 : 23.829 |  W2 : -1.875\n",
      "Epoch #: 10 | Error : 1595.528 |  W1 : 24.724 |  W2 : -2.246\n",
      "Epoch #: 11 | Error : 1356.092 |  W1 : 25.549 |  W2 : -2.587\n",
      "Epoch #: 12 | Error : 1152.588 |  W1 : 26.31 |  W2 : -2.902\n",
      "Epoch #: 13 | Error : 979.622 |  W1 : 27.012 |  W2 : -3.192\n",
      "Epoch #: 14 | Error : 832.613 |  W1 : 27.658 |  W2 : -3.459\n",
      "Epoch #: 15 | Error : 707.665 |  W1 : 28.255 |  W2 : -3.706\n",
      "Epoch #: 16 | Error : 601.468 |  W1 : 28.804 |  W2 : -3.933\n",
      "Epoch #: 17 | Error : 511.208 |  W1 : 29.311 |  W2 : -4.143\n",
      "Epoch #: 18 | Error : 434.492 |  W1 : 29.778 |  W2 : -4.336\n",
      "Epoch #: 19 | Error : 369.289 |  W1 : 30.209 |  W2 : -4.514\n",
      "Epoch #: 20 | Error : 313.871 |  W1 : 30.606 |  W2 : -4.679\n",
      "Epoch #: 21 | Error : 266.77 |  W1 : 30.972 |  W2 : -4.83\n",
      "Epoch #: 22 | Error : 226.736 |  W1 : 31.309 |  W2 : -4.97\n",
      "Epoch #: 23 | Error : 192.711 |  W1 : 31.621 |  W2 : -5.098\n",
      "Epoch #: 24 | Error : 163.791 |  W1 : 31.907 |  W2 : -5.217\n",
      "Epoch #: 25 | Error : 139.211 |  W1 : 32.172 |  W2 : -5.326\n",
      "Epoch #: 26 | Error : 118.32 |  W1 : 32.416 |  W2 : -5.427\n",
      "Epoch #: 27 | Error : 100.564 |  W1 : 32.64 |  W2 : -5.52\n",
      "Epoch #: 28 | Error : 85.473 |  W1 : 32.848 |  W2 : -5.606\n",
      "Epoch #: 29 | Error : 72.646 |  W1 : 33.039 |  W2 : -5.685\n",
      "Epoch #: 30 | Error : 61.745 |  W1 : 33.215 |  W2 : -5.758\n",
      "Epoch #: 31 | Error : 52.479 |  W1 : 33.377 |  W2 : -5.825\n",
      "Epoch #: 32 | Error : 44.603 |  W1 : 33.527 |  W2 : -5.887\n",
      "Epoch #: 33 | Error : 37.91 |  W1 : 33.665 |  W2 : -5.944\n",
      "Epoch #: 34 | Error : 32.221 |  W1 : 33.792 |  W2 : -5.996\n",
      "Epoch #: 35 | Error : 27.386 |  W1 : 33.909 |  W2 : -6.045\n",
      "Epoch #: 36 | Error : 23.276 |  W1 : 34.017 |  W2 : -6.09\n",
      "Epoch #: 37 | Error : 19.783 |  W1 : 34.117 |  W2 : -6.131\n",
      "Epoch #: 38 | Error : 16.814 |  W1 : 34.209 |  W2 : -6.169\n",
      "Epoch #: 39 | Error : 14.291 |  W1 : 34.294 |  W2 : -6.204\n",
      "Epoch #: 40 | Error : 12.146 |  W1 : 34.372 |  W2 : -6.236\n",
      "Epoch #: 41 | Error : 10.324 |  W1 : 34.444 |  W2 : -6.266\n",
      "Epoch #: 42 | Error : 8.774 |  W1 : 34.51 |  W2 : -6.293\n",
      "Epoch #: 43 | Error : 7.458 |  W1 : 34.571 |  W2 : -6.319\n",
      "Epoch #: 44 | Error : 6.338 |  W1 : 34.628 |  W2 : -6.342\n",
      "Epoch #: 45 | Error : 5.387 |  W1 : 34.68 |  W2 : -6.364\n",
      "Epoch #: 46 | Error : 4.579 |  W1 : 34.728 |  W2 : -6.383\n",
      "Epoch #: 47 | Error : 3.892 |  W1 : 34.772 |  W2 : -6.402\n",
      "Epoch #: 48 | Error : 3.308 |  W1 : 34.813 |  W2 : -6.419\n",
      "Epoch #: 49 | Error : 2.811 |  W1 : 34.85 |  W2 : -6.434\n",
      "Epoch #: 50 | Error : 2.389 |  W1 : 34.885 |  W2 : -6.448\n",
      "Epoch #: 51 | Error : 2.031 |  W1 : 34.917 |  W2 : -6.462\n",
      "Epoch #: 52 | Error : 1.726 |  W1 : 34.946 |  W2 : -6.474\n",
      "Epoch #: 53 | Error : 1.467 |  W1 : 34.974 |  W2 : -6.485\n",
      "Epoch #: 54 | Error : 1.247 |  W1 : 34.999 |  W2 : -6.495\n",
      "Epoch #: 55 | Error : 1.06 |  W1 : 35.022 |  W2 : -6.505\n",
      "Epoch #: 56 | Error : 0.901 |  W1 : 35.043 |  W2 : -6.514\n",
      "Epoch #: 57 | Error : 0.766 |  W1 : 35.063 |  W2 : -6.522\n",
      "Epoch #: 58 | Error : 0.651 |  W1 : 35.081 |  W2 : -6.529\n",
      "Epoch #: 59 | Error : 0.553 |  W1 : 35.097 |  W2 : -6.536\n",
      "Epoch #: 60 | Error : 0.47 |  W1 : 35.113 |  W2 : -6.543\n",
      "Epoch #: 61 | Error : 0.4 |  W1 : 35.127 |  W2 : -6.548\n",
      "Epoch #: 62 | Error : 0.34 |  W1 : 35.14 |  W2 : -6.554\n",
      "Epoch #: 63 | Error : 0.289 |  W1 : 35.152 |  W2 : -6.559\n",
      "Epoch #: 64 | Error : 0.245 |  W1 : 35.163 |  W2 : -6.563\n",
      "Epoch #: 65 | Error : 0.208 |  W1 : 35.173 |  W2 : -6.568\n",
      "Epoch #: 66 | Error : 0.177 |  W1 : 35.183 |  W2 : -6.572\n",
      "Epoch #: 67 | Error : 0.151 |  W1 : 35.191 |  W2 : -6.575\n",
      "Epoch #: 68 | Error : 0.128 |  W1 : 35.199 |  W2 : -6.578\n",
      "Epoch #: 69 | Error : 0.109 |  W1 : 35.207 |  W2 : -6.582\n",
      "Epoch #: 70 | Error : 0.092 |  W1 : 35.214 |  W2 : -6.584\n",
      "Epoch #: 71 | Error : 0.079 |  W1 : 35.22 |  W2 : -6.587\n",
      "Epoch #: 72 | Error : 0.067 |  W1 : 35.226 |  W2 : -6.589\n",
      "Epoch #: 73 | Error : 0.057 |  W1 : 35.231 |  W2 : -6.592\n",
      "Epoch #: 74 | Error : 0.048 |  W1 : 35.236 |  W2 : -6.594\n",
      "Epoch #: 75 | Error : 0.041 |  W1 : 35.241 |  W2 : -6.595\n",
      "Epoch #: 76 | Error : 0.035 |  W1 : 35.245 |  W2 : -6.597\n",
      "Epoch #: 77 | Error : 0.03 |  W1 : 35.249 |  W2 : -6.599\n",
      "Epoch #: 78 | Error : 0.025 |  W1 : 35.252 |  W2 : -6.6\n",
      "Epoch #: 79 | Error : 0.021 |  W1 : 35.255 |  W2 : -6.602\n",
      "Epoch #: 80 | Error : 0.018 |  W1 : 35.258 |  W2 : -6.603\n",
      "Epoch #: 81 | Error : 0.015 |  W1 : 35.261 |  W2 : -6.604\n",
      "Epoch #: 82 | Error : 0.013 |  W1 : 35.264 |  W2 : -6.605\n",
      "Epoch #: 83 | Error : 0.011 |  W1 : 35.266 |  W2 : -6.606\n",
      "Epoch #: 84 | Error : 0.009 |  W1 : 35.268 |  W2 : -6.607\n",
      "Epoch #: 85 | Error : 0.008 |  W1 : 35.27 |  W2 : -6.608\n",
      "Epoch #: 86 | Error : 0.007 |  W1 : 35.272 |  W2 : -6.609\n",
      "Epoch #: 87 | Error : 0.006 |  W1 : 35.274 |  W2 : -6.609\n",
      "Epoch #: 88 | Error : 0.005 |  W1 : 35.275 |  W2 : -6.61\n",
      "Epoch #: 89 | Error : 0.004 |  W1 : 35.277 |  W2 : -6.611\n",
      "Epoch #: 90 | Error : 0.004 |  W1 : 35.278 |  W2 : -6.611\n",
      "Epoch #: 91 | Error : 0.003 |  W1 : 35.28 |  W2 : -6.612\n",
      "Epoch #: 92 | Error : 0.003 |  W1 : 35.281 |  W2 : -6.612\n",
      "Epoch #: 93 | Error : 0.002 |  W1 : 35.282 |  W2 : -6.613\n",
      "Epoch #: 94 | Error : 0.002 |  W1 : 35.283 |  W2 : -6.613\n",
      "Epoch #: 95 | Error : 0.002 |  W1 : 35.284 |  W2 : -6.613\n",
      "Epoch #: 96 | Error : 0.001 |  W1 : 35.284 |  W2 : -6.614\n",
      "Epoch #: 97 | Error : 0.001 |  W1 : 35.285 |  W2 : -6.614\n",
      "Epoch #: 98 | Error : 0.001 |  W1 : 35.286 |  W2 : -6.614\n",
      "Epoch #: 99 | Error : 0.001 |  W1 : 35.287 |  W2 : -6.614\n"
     ]
    }
   ],
   "source": [
    "total_error = 0 # Initializing\n",
    "error_values = []\n",
    "\n",
    "for j in range(100):\n",
    "    for i in range(N):\n",
    "        y_pred = x1[i] * w1 + x2[i] * w2 # y_pred = x1.w1 + x2.w2\n",
    "        E = (y[i]-y_pred)**2 # Squared Error\n",
    "        total_error += E\n",
    "\n",
    "        dE_dw1 = -2* x1[i] * (y[i]-y_pred) # error gradient w.r.t w1\n",
    "        dE_dw2 = -2* x2[i] * (y[i]-y_pred) # error gradient w.r.t w2\n",
    "\n",
    "        w1 -= lr * dE_dw1 # updating w1\n",
    "        w2 -= lr * dE_dw2  # updating w2    \n",
    "    error_values.append(E)\n",
    "    print(f\"Epoch #: {j} | Error : {round(E,3)} |  W1 : {round(w1,3)} |  W2 : {round(w2,3)}\")"
   ]
  },
  {
   "cell_type": "code",
   "execution_count": 38,
   "metadata": {},
   "outputs": [
    {
     "data": {
      "image/png": "[encoded data removed]",
      "text/plain": [
       "<Figure size 432x288 with 1 Axes>"
      ]
     },
     "metadata": {
      "needs_background": "light"
     },
     "output_type": "display_data"
    }
   ],
   "source": [
    "import matplotlib.pyplot as plt\n",
    "\n",
    "plt.plot(error_values)\n",
    "plt.xlabel(\"Epoch\")\n",
    "plt.ylabel(\"Squared Error\")\n",
    "plt.grid()\n",
    "plt.show()"
   ]
  },
  {
   "cell_type": "code",
   "execution_count": 17,
   "metadata": {},
   "outputs": [
    {
     "data": {
      "text/plain": [
       "26500"
      ]
     },
     "execution_count": 17,
     "metadata": {},
     "output_type": "execute_result"
    }
   ],
   "source": [
    "total_error # Sum of squared error\n",
    "#total_error/N # MSE"
   ]
  },
  {
   "cell_type": "code",
   "execution_count": 18,
   "metadata": {},
   "outputs": [
    {
     "data": {
      "text/plain": [
       "[25600, 900]"
      ]
     },
     "execution_count": 18,
     "metadata": {},
     "output_type": "execute_result"
    }
   ],
   "source": [
    "error_values"
   ]
  }
 ],
 "metadata": {
  "kernelspec": {
   "display_name": "Python 3",
   "language": "python",
   "name": "python3"
  },
  "language_info": {
   "codemirror_mode": {
    "name": "ipython",
    "version": 3
   },
   "file_extension": ".py",
   "mimetype": "text/x-python",
   "name": "python",
   "nbconvert_exporter": "python",
   "pygments_lexer": "ipython3",
   "version": "3.8.8"
  }
 },
 "nbformat": 4,
 "nbformat_minor": 4
}
